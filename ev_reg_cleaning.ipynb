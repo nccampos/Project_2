{
 "cells": [
  {
   "cell_type": "code",
   "execution_count": 1,
   "metadata": {},
   "outputs": [],
   "source": [
    "# Dependencies\n",
    "import pandas as pd"
   ]
  },
  {
   "cell_type": "code",
   "execution_count": 2,
   "metadata": {},
   "outputs": [
    {
     "name": "stderr",
     "output_type": "stream",
     "text": [
      "c:\\Users\\Ray\\anaconda3\\lib\\site-packages\\IPython\\core\\interactiveshell.py:3444: DtypeWarning: Columns (2) have mixed types.Specify dtype option on import or set low_memory=False.\n",
      "  exec(code_obj, self.user_global_ns, self.user_ns)\n"
     ]
    }
   ],
   "source": [
    "# Reading in csvs\n",
    "ny_df = pd.read_csv('Resources/ny_ev_registrations_public.csv')\n",
    "#ny_df.columns\n",
    "\n",
    "mn_df = pd.read_csv('Resources/mn_ev_registrations_public.csv')\n",
    "#mn_df.columns"
   ]
  },
  {
   "cell_type": "code",
   "execution_count": 3,
   "metadata": {},
   "outputs": [],
   "source": [
    "# Filtering necessary columns\n",
    "ny_df = ny_df[['State','Vehicle Name']]\n",
    "#ny_df.head()\n",
    "\n",
    "mn_df = mn_df[['Make','Model']]\n",
    "#mn_df.head()"
   ]
  },
  {
   "cell_type": "code",
   "execution_count": 4,
   "metadata": {},
   "outputs": [],
   "source": [
    "# Splitting 'Vehicle Name' column into two columns, 'Make' and 'Model'\n",
    "ny_df[['Make', 'Model']] = ny_df['Vehicle Name'].str.split(' ', 1, expand=True)"
   ]
  },
  {
   "cell_type": "code",
   "execution_count": 5,
   "metadata": {},
   "outputs": [],
   "source": [
    "# Deleting old 'Vehicle Name' column\n",
    "del ny_df['Vehicle Name']"
   ]
  },
  {
   "cell_type": "code",
   "execution_count": 6,
   "metadata": {},
   "outputs": [],
   "source": [
    "# Adding new column 'State'\n",
    "mn_df['State'] = 'MN'\n",
    "#mn_df.head()"
   ]
  },
  {
   "cell_type": "code",
   "execution_count": 8,
   "metadata": {},
   "outputs": [
    {
     "name": "stderr",
     "output_type": "stream",
     "text": [
      "C:\\Users\\Ray\\AppData\\Local\\Temp/ipykernel_16816/576436887.py:5: SettingWithCopyWarning: \n",
      "A value is trying to be set on a copy of a slice from a DataFrame.\n",
      "Try using .loc[row_indexer,col_indexer] = value instead\n",
      "\n",
      "See the caveats in the documentation: https://pandas.pydata.org/pandas-docs/stable/user_guide/indexing.html#returning-a-view-versus-a-copy\n",
      "  shortny['total_model'] = list(total_models_ny)\n",
      "C:\\Users\\Ray\\AppData\\Local\\Temp/ipykernel_16816/576436887.py:12: SettingWithCopyWarning: \n",
      "A value is trying to be set on a copy of a slice from a DataFrame.\n",
      "Try using .loc[row_indexer,col_indexer] = value instead\n",
      "\n",
      "See the caveats in the documentation: https://pandas.pydata.org/pandas-docs/stable/user_guide/indexing.html#returning-a-view-versus-a-copy\n",
      "  shortmn['total_model'] = list(total_models_mn)\n"
     ]
    }
   ],
   "source": [
    "# Find value counts of each model\n",
    "# Create dataframes with only one instance of each model\n",
    "# Append counts of models to new dataframes\n",
    "\n",
    "total_models_ny = ny_df.Model.value_counts(sort=False)\n",
    "shortny = ny_df.drop_duplicates(subset='Model')\n",
    "shortny['total_model'] = list(total_models_ny)\n",
    "#shortny.head()\n",
    "\n",
    "total_models_mn = mn_df.Model.value_counts(sort=False)\n",
    "shortmn = mn_df.drop_duplicates(subset='Model')\n",
    "shortmn['total_model'] = list(total_models_mn)\n",
    "#shortmn.head()"
   ]
  },
  {
   "cell_type": "code",
   "execution_count": 13,
   "metadata": {},
   "outputs": [],
   "source": [
    "# Resetting indeces\n",
    "shortny = shortny.reset_index()\n",
    "shortmn = shortmn.reset_index()"
   ]
  },
  {
   "cell_type": "code",
   "execution_count": 14,
   "metadata": {},
   "outputs": [],
   "source": [
    "# Deleting extra index columns\n",
    "del shortny['index']\n",
    "del shortmn['index']"
   ]
  },
  {
   "cell_type": "code",
   "execution_count": 15,
   "metadata": {},
   "outputs": [],
   "source": [
    "# Exporting to csv\n",
    "shortny.to_csv('ev_reg_ny_totals.csv')\n",
    "shortmn.to_csv('ev_reg_mn_totals.csv')"
   ]
  },
  {
   "cell_type": "code",
   "execution_count": null,
   "metadata": {},
   "outputs": [],
   "source": []
  }
 ],
 "metadata": {
  "kernelspec": {
   "display_name": "Python 3.9.7 ('base')",
   "language": "python",
   "name": "python3"
  },
  "language_info": {
   "codemirror_mode": {
    "name": "ipython",
    "version": 3
   },
   "file_extension": ".py",
   "mimetype": "text/x-python",
   "name": "python",
   "nbconvert_exporter": "python",
   "pygments_lexer": "ipython3",
   "version": "3.9.7"
  },
  "orig_nbformat": 4,
  "vscode": {
   "interpreter": {
    "hash": "5c1111a106d7ffaaa9f2643bb82b0d2e2dbd6e95a4929d570c8200f098d6bda7"
   }
  }
 },
 "nbformat": 4,
 "nbformat_minor": 2
}
